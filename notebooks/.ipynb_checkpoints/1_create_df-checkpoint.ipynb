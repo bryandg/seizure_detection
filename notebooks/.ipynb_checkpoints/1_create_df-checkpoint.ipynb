{
 "cells": [
  {
   "cell_type": "code",
   "execution_count": 5,
   "metadata": {
    "ExecuteTime": {
     "end_time": "2018-02-24T18:11:07.079610Z",
     "start_time": "2018-02-24T18:11:07.077147Z"
    },
    "collapsed": true
   },
   "outputs": [],
   "source": [
    "import numpy as np\n",
    "import pandas as pd\n",
    "from scipy.io import loadmat\n",
    "import pickle"
   ]
  },
  {
   "cell_type": "code",
   "execution_count": 6,
   "metadata": {
    "ExecuteTime": {
     "end_time": "2018-02-24T18:11:07.085341Z",
     "start_time": "2018-02-24T18:11:07.083412Z"
    },
    "collapsed": true
   },
   "outputs": [],
   "source": [
    "pd.set_option('display.max_rows', 100)\n",
    "pd.set_option('display.max_columns', None)"
   ]
  },
  {
   "cell_type": "markdown",
   "metadata": {},
   "source": [
    "**Download in terminal**\n",
    "\n",
    "`$ kg download -u ‘username’ -p ‘password’ -c seizure-prediction -f Dog_4.tar.gz`"
   ]
  },
  {
   "cell_type": "markdown",
   "metadata": {},
   "source": [
    "**Data**\n",
    "* 16 channels\n",
    "* preictal channels have 239,766 data points--234 short of 10min"
   ]
  },
  {
   "cell_type": "code",
   "execution_count": 7,
   "metadata": {
    "ExecuteTime": {
     "end_time": "2018-02-24T18:11:07.101242Z",
     "start_time": "2018-02-24T18:11:07.098837Z"
    },
    "collapsed": true
   },
   "outputs": [],
   "source": [
    "preictal_files = ['Dog_4_preictal_segment_%04d' % i for i in range(1,98)]\n",
    "interictal_files = ['Dog_4_interictal_segment_%04d' % i for i in range(1,805)]"
   ]
  },
  {
   "cell_type": "code",
   "execution_count": 8,
   "metadata": {
    "ExecuteTime": {
     "end_time": "2018-02-24T18:11:07.114961Z",
     "start_time": "2018-02-24T18:11:07.108750Z"
    },
    "collapsed": true
   },
   "outputs": [],
   "source": [
    "def create_df(ictal_type, filenames):\n",
    "    \"\"\"Input: type (preictal or interictal) and a list of\n",
    "    filenames.\n",
    "    Returns: a dataframe composed of every preictal or\n",
    "    interictal file.\n",
    "    \n",
    "    Uses function mat_to_df.\n",
    "    \"\"\"\n",
    "    \n",
    "    frames = []\n",
    "    for i, filename in enumerate(filenames, 1):\n",
    "        mat = loadmat('../Dog_4/{}/{}'.format(ictal_type, filename))\n",
    "        df = mat_to_df(mat, ictal_type, i)\n",
    "        frames.append(df)\n",
    "    ictal_df = pd.concat(frames, ignore_index=True) # essentially reindexing\n",
    "    \n",
    "    return ictal_df"
   ]
  },
  {
   "cell_type": "code",
   "execution_count": 9,
   "metadata": {
    "ExecuteTime": {
     "end_time": "2018-02-24T18:11:07.140530Z",
     "start_time": "2018-02-24T18:11:07.129917Z"
    },
    "collapsed": true
   },
   "outputs": [],
   "source": [
    "def mat_to_df(mat, ictal_type, num):\n",
    "    \"\"\"Input: matlab file, preictal or interictal, sequence number (from filename).\n",
    "    Returns: dataframe where each row represents 15s of data. Column for each\n",
    "    channel and columns for sequence number and target. \n",
    "    \"\"\"\n",
    "    \n",
    "    data = mat['{}_segment_{}'.format(ictal_type, num)][0][0][0]\n",
    "    #columns = ['ch_{}'.format(i) for i in range(1,17)]\n",
    "    columns = ['ch_%02d' % i for i in range(1,17)] # % stuff maintains column order\n",
    "    data_list = []\n",
    "    for i in range(39): # 39 fifteen second segments\n",
    "        data_dict = {'target': ictal_type, 'sequence': num}\n",
    "        for channel, column in zip(data, columns):\n",
    "            channel = channel[5766:] # we're skipping partial first segment\n",
    "            data_dict[column] = channel[(6000*i):(6000*(i+1))]\n",
    "        data_list.append(data_dict)\n",
    "    df = pd.DataFrame(data_list)\n",
    "    return df"
   ]
  },
  {
   "cell_type": "code",
   "execution_count": 10,
   "metadata": {
    "ExecuteTime": {
     "end_time": "2018-02-24T18:11:57.970779Z",
     "start_time": "2018-02-24T18:11:07.164163Z"
    },
    "collapsed": true
   },
   "outputs": [],
   "source": [
    "preictals = create_df('preictal', preictal_files)\n",
    "df = preictals.append(create_df('interictal', interictal_files), ignore_index=True)"
   ]
  },
  {
   "cell_type": "code",
   "execution_count": 11,
   "metadata": {
    "ExecuteTime": {
     "end_time": "2018-02-24T18:13:00.262395Z",
     "start_time": "2018-02-24T18:11:57.972021Z"
    },
    "collapsed": true
   },
   "outputs": [],
   "source": [
    "df.to_pickle('prelim_df.pkl')"
   ]
  }
 ],
 "metadata": {
  "kernelspec": {
   "display_name": "Python 3",
   "language": "python",
   "name": "python3"
  },
  "language_info": {
   "codemirror_mode": {
    "name": "ipython",
    "version": 3
   },
   "file_extension": ".py",
   "mimetype": "text/x-python",
   "name": "python",
   "nbconvert_exporter": "python",
   "pygments_lexer": "ipython3",
   "version": "3.6.3"
  },
  "toc": {
   "nav_menu": {},
   "number_sections": true,
   "sideBar": true,
   "skip_h1_title": false,
   "title_cell": "Table of Contents",
   "title_sidebar": "Contents",
   "toc_cell": false,
   "toc_position": {},
   "toc_section_display": true,
   "toc_window_display": false
  }
 },
 "nbformat": 4,
 "nbformat_minor": 2
}
