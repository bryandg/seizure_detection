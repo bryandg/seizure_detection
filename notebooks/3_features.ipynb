{
 "cells": [
  {
   "cell_type": "code",
   "execution_count": 1,
   "metadata": {
    "ExecuteTime": {
     "end_time": "2018-02-24T18:21:30.683328Z",
     "start_time": "2018-02-24T18:21:30.168968Z"
    },
    "collapsed": true
   },
   "outputs": [],
   "source": [
    "import numpy as np\n",
    "import pandas as pd\n",
    "import pickle\n",
    "import matplotlib.pyplot as plt\n",
    "%matplotlib inline\n",
    "import seaborn as sns\n",
    "\n",
    "from scipy.stats import kurtosis, skew"
   ]
  },
  {
   "cell_type": "code",
   "execution_count": 2,
   "metadata": {
    "ExecuteTime": {
     "end_time": "2018-02-24T18:21:30.686837Z",
     "start_time": "2018-02-24T18:21:30.684643Z"
    },
    "collapsed": true
   },
   "outputs": [],
   "source": [
    "pd.set_option('display.max_rows', 100)\n",
    "pd.set_option('display.max_columns', None)"
   ]
  },
  {
   "cell_type": "code",
   "execution_count": 3,
   "metadata": {
    "ExecuteTime": {
     "end_time": "2018-02-24T18:22:20.203244Z",
     "start_time": "2018-02-24T18:21:30.687875Z"
    },
    "collapsed": true
   },
   "outputs": [],
   "source": [
    "df = pd.read_pickle('prelim_df.pkl')"
   ]
  },
  {
   "cell_type": "code",
   "execution_count": 4,
   "metadata": {
    "ExecuteTime": {
     "end_time": "2018-02-24T18:22:20.216449Z",
     "start_time": "2018-02-24T18:22:20.204551Z"
    },
    "collapsed": true
   },
   "outputs": [],
   "source": [
    "df['target_bin'] = df['target'].apply(lambda x: 1 if x=='preictal' else 0)"
   ]
  },
  {
   "cell_type": "code",
   "execution_count": 5,
   "metadata": {
    "ExecuteTime": {
     "end_time": "2018-02-24T18:22:20.220592Z",
     "start_time": "2018-02-24T18:22:20.217526Z"
    },
    "collapsed": true
   },
   "outputs": [],
   "source": [
    "def generate_simple_columns(columns, function, func_name):\n",
    "    for index, column in enumerate(columns, start=1):\n",
    "        df['{}_{}'.format(func_name, index)] = df[column].apply(function)\n",
    "    return df"
   ]
  },
  {
   "cell_type": "code",
   "execution_count": 6,
   "metadata": {
    "ExecuteTime": {
     "end_time": "2018-02-24T18:22:20.227609Z",
     "start_time": "2018-02-24T18:22:20.221626Z"
    },
    "collapsed": true
   },
   "outputs": [],
   "source": [
    "def generate_more_columns(columns, function, func_name):\n",
    "    \"\"\"Correlations contained mostly noise.\n",
    "    \"\"\"\n",
    "    columns_2 = columns[1:]\n",
    "    columns = columns[:-1]\n",
    "    for col in list(columns):\n",
    "        for col_2 in columns_2:\n",
    "            df['{}_{}_{}'.format(func_name, str(col), str(col_2))] = \\\n",
    "            np.vectorize(function)(df[col], df[col_2])\n",
    "        del columns_2[0]\n",
    "    \n",
    "    return df"
   ]
  },
  {
   "cell_type": "code",
   "execution_count": 7,
   "metadata": {
    "ExecuteTime": {
     "end_time": "2018-02-24T18:22:20.231931Z",
     "start_time": "2018-02-24T18:22:20.228636Z"
    },
    "collapsed": true
   },
   "outputs": [],
   "source": [
    "def generate_percentiles(columns, percentile):\n",
    "    for index, column in enumerate(columns, start=1):\n",
    "        df['c{}_p{}'.format(index, percentile)] = \\\n",
    "        df[column].apply(lambda x: np.percentile(x, percentile))\n",
    "    return df"
   ]
  },
  {
   "cell_type": "code",
   "execution_count": 8,
   "metadata": {
    "ExecuteTime": {
     "end_time": "2018-02-24T18:22:20.236181Z",
     "start_time": "2018-02-24T18:22:20.232999Z"
    },
    "collapsed": true
   },
   "outputs": [],
   "source": [
    "def generate_mean_pos(columns):\n",
    "    for index, column in enumerate(columns, start=1):\n",
    "        df['c{}_{}'.format(index, 'mean+')] = \\\n",
    "        df[column].apply(lambda x: np.mean(x[x > 0]))\n",
    "    return df"
   ]
  },
  {
   "cell_type": "code",
   "execution_count": 9,
   "metadata": {
    "ExecuteTime": {
     "end_time": "2018-02-24T18:22:20.242018Z",
     "start_time": "2018-02-24T18:22:20.237176Z"
    },
    "collapsed": true
   },
   "outputs": [],
   "source": [
    "def features_mean(columns, features):\n",
    "    for column_set, feature in zip(columns, features):\n",
    "        df['mean_{}'.format(feature)] = df[column_set].mean(axis=1)\n",
    "    return df"
   ]
  },
  {
   "cell_type": "code",
   "execution_count": 10,
   "metadata": {
    "ExecuteTime": {
     "end_time": "2018-02-24T18:22:20.252250Z",
     "start_time": "2018-02-24T18:22:20.243052Z"
    },
    "collapsed": true
   },
   "outputs": [],
   "source": [
    "def get_consecutive_values(array):\n",
    "    \"\"\"Returns the greatest number of consecutive values in-between \n",
    "    -50 and 50 for each 15s interval.\n",
    "    VERY inefficient.\n",
    "    \"\"\"\n",
    "    max_len = 0\n",
    "    temp_len = 0\n",
    "    array = abs(array)\n",
    "    for i in array:\n",
    "        if i < 50:\n",
    "            temp_len += 1\n",
    "        else:\n",
    "            if temp_len > max_len:\n",
    "                max_len = temp_len\n",
    "            temp_len = 0\n",
    "    return max_len\n",
    "\n",
    "def consecutive_values_columns(columns):\n",
    "    for index, column in enumerate(columns, start=1):\n",
    "        df['c{}_con'.format(index)] = df[column].apply(get_consecutive_values)\n",
    "    return df"
   ]
  },
  {
   "cell_type": "code",
   "execution_count": 11,
   "metadata": {
    "ExecuteTime": {
     "end_time": "2018-02-24T18:22:20.256615Z",
     "start_time": "2018-02-24T18:22:20.253264Z"
    },
    "collapsed": true
   },
   "outputs": [],
   "source": [
    "channels = ['ch_01', 'ch_02', 'ch_03', 'ch_04', 'ch_05', 'ch_06', 'ch_07', 'ch_08',\n",
    "       'ch_09', 'ch_10', 'ch_11', 'ch_12', 'ch_13', 'ch_14', 'ch_15', 'ch_16']"
   ]
  },
  {
   "cell_type": "markdown",
   "metadata": {},
   "source": [
    "**Generate features**"
   ]
  },
  {
   "cell_type": "code",
   "execution_count": 12,
   "metadata": {
    "ExecuteTime": {
     "end_time": "2018-02-24T18:23:20.690659Z",
     "start_time": "2018-02-24T18:22:20.257659Z"
    },
    "collapsed": true
   },
   "outputs": [],
   "source": [
    "#df = generate_simple_columns(channel_columns, np.mean, 'mean') # essentially no signal\n",
    "df = generate_simple_columns(channels, np.std, 'std')\n",
    "#df = generate_simple_columns(channels, kurtosis, 'kurt') # no signal\n",
    "df = generate_percentiles(channels, 1)\n",
    "df = generate_mean_pos(channels)"
   ]
  },
  {
   "cell_type": "code",
   "execution_count": null,
   "metadata": {
    "ExecuteTime": {
     "start_time": "2018-02-20T19:28:58.849Z"
    },
    "collapsed": true
   },
   "outputs": [],
   "source": [
    "df = consecutive_values_columns(channels) # very slow to run"
   ]
  },
  {
   "cell_type": "markdown",
   "metadata": {},
   "source": [
    "**Generate means across channels from new features**"
   ]
  },
  {
   "cell_type": "code",
   "execution_count": null,
   "metadata": {
    "ExecuteTime": {
     "end_time": "2018-02-24T18:24:18.557658Z",
     "start_time": "2018-02-24T18:24:18.525161Z"
    },
    "collapsed": true
   },
   "outputs": [],
   "source": [
    "std_columns = ['std_{}'.format(i) for i in range(1,17)]\n",
    "percentile_columns = ['c{}_p1'.format(i) for i in range(1, 17)]\n",
    "mean_pos_columns = ['c{}_mean+'.format(i) for i in range(1,17)]\n",
    "mean_consecutive_columns = ['c{}_con'.format(i) for i in range(1,17)]\n",
    "\n",
    "columns = [std_columns, percentile_columns, mean_pos_columns, mean_consecutive_columns]\n",
    "features = ['std', '1p', 'mean+', 'con']\n",
    "\n",
    "df = features_mean(columns, features)"
   ]
  },
  {
   "cell_type": "code",
   "execution_count": null,
   "metadata": {
    "ExecuteTime": {
     "end_time": "2018-02-24T18:23:20.841672Z",
     "start_time": "2018-02-24T18:21:30.186Z"
    },
    "collapsed": true
   },
   "outputs": [],
   "source": [
    "df.head(1)"
   ]
  },
  {
   "cell_type": "code",
   "execution_count": null,
   "metadata": {
    "ExecuteTime": {
     "start_time": "2018-02-20T20:04:20.195Z"
    },
    "collapsed": true
   },
   "outputs": [],
   "source": [
    "df.to_pickle('featured_df.pkl')"
   ]
  }
 ],
 "metadata": {
  "kernelspec": {
   "display_name": "Python 3",
   "language": "python",
   "name": "python3"
  },
  "language_info": {
   "codemirror_mode": {
    "name": "ipython",
    "version": 3
   },
   "file_extension": ".py",
   "mimetype": "text/x-python",
   "name": "python",
   "nbconvert_exporter": "python",
   "pygments_lexer": "ipython3",
   "version": "3.6.4"
  },
  "toc": {
   "nav_menu": {},
   "number_sections": true,
   "sideBar": true,
   "skip_h1_title": false,
   "title_cell": "Table of Contents",
   "title_sidebar": "Contents",
   "toc_cell": false,
   "toc_position": {},
   "toc_section_display": true,
   "toc_window_display": false
  }
 },
 "nbformat": 4,
 "nbformat_minor": 2
}
